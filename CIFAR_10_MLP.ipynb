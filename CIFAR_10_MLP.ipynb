{
  "nbformat": 4,
  "nbformat_minor": 0,
  "metadata": {
    "colab": {
      "name": "CIFAR-10_MLP.ipynb",
      "provenance": [],
      "collapsed_sections": []
    },
    "kernelspec": {
      "name": "python3",
      "display_name": "Python 3"
    }
  },
  "cells": [
    {
      "cell_type": "code",
      "metadata": {
        "id": "pcftfzZ4faAk"
      },
      "source": [
        "import numpy as np\n",
        "import tensorflow\n",
        "from tensorflow.keras.models import Sequential\n",
        "from tensorflow.keras.layers import Dense\n",
        "from tensorflow.keras.utils import to_categorical, plot_model\n",
        "from tensorflow.keras.datasets import cifar10\n",
        "from matplotlib import pyplot as plt\n",
        "\n"
      ],
      "execution_count": 3,
      "outputs": []
    },
    {
      "cell_type": "code",
      "metadata": {
        "id": "PcraG3z_jDpD",
        "outputId": "3825e788-d52d-4db8-c9c4-c1901a0253dc",
        "colab": {
          "base_uri": "https://localhost:8080/",
          "height": 53
        }
      },
      "source": [
        "(x_train, y_train), (x_test, y_test) = cifar10.load_data()"
      ],
      "execution_count": 4,
      "outputs": [
        {
          "output_type": "stream",
          "text": [
            "Downloading data from https://www.cs.toronto.edu/~kriz/cifar-10-python.tar.gz\n",
            "170500096/170498071 [==============================] - 2s 0us/step\n"
          ],
          "name": "stdout"
        }
      ]
    },
    {
      "cell_type": "code",
      "metadata": {
        "id": "rvBCAaB8jL2n"
      },
      "source": [
        "num_labels = len(np.unique(y_train))\n",
        "\n",
        "y_train = to_categorical(y_train)\n",
        "y_test = to_categorical(y_test)"
      ],
      "execution_count": 5,
      "outputs": []
    },
    {
      "cell_type": "code",
      "metadata": {
        "id": "94QGanzW3Oqs",
        "outputId": "465aaf94-74ba-4545-a040-e00cbf27c425",
        "colab": {
          "base_uri": "https://localhost:8080/",
          "height": 35
        }
      },
      "source": [
        "input_size = x_train.shape[1] * x_train.shape[2] * x_train.shape[3]\n",
        "print(x_train.shape[1], x_train.shape[2], x_train.shape[3])\n",
        "x_train = np.reshape(x_train, [-1, input_size])\n",
        "x_train = x_train.astype('float32') / 255\n",
        "x_test = np.reshape(x_test, [-1, input_size])\n",
        "x_test = x_test.astype('float32') / 255\n",
        "\n"
      ],
      "execution_count": 6,
      "outputs": [
        {
          "output_type": "stream",
          "text": [
            "32 32 3\n"
          ],
          "name": "stdout"
        }
      ]
    },
    {
      "cell_type": "code",
      "metadata": {
        "id": "ia3C4d3i33LX"
      },
      "source": [
        "batch_size = 16\n",
        "n_units = 256\n",
        "epochs = 25"
      ],
      "execution_count": 15,
      "outputs": []
    },
    {
      "cell_type": "code",
      "metadata": {
        "id": "foD-kjjU35xY",
        "outputId": "6ea485c1-aecf-400b-e173-f9b1d8758867",
        "colab": {
          "base_uri": "https://localhost:8080/",
          "height": 267
        }
      },
      "source": [
        "model = Sequential(name='3-layer-MLP')\n",
        "model.add(Dense(n_units, input_dim=input_size, activation='relu', name='input_layer'))\n",
        "model.add(Dense(32, activation='relu', name='hidden_layer'))\n",
        "model.add(Dense(num_labels, activation='softmax', name='output_layer'))\n",
        "model.summary()"
      ],
      "execution_count": 16,
      "outputs": [
        {
          "output_type": "stream",
          "text": [
            "Model: \"3-layer-MLP\"\n",
            "_________________________________________________________________\n",
            "Layer (type)                 Output Shape              Param #   \n",
            "=================================================================\n",
            "input_layer (Dense)          (None, 256)               786688    \n",
            "_________________________________________________________________\n",
            "hidden_layer (Dense)         (None, 32)                8224      \n",
            "_________________________________________________________________\n",
            "output_layer (Dense)         (None, 10)                330       \n",
            "=================================================================\n",
            "Total params: 795,242\n",
            "Trainable params: 795,242\n",
            "Non-trainable params: 0\n",
            "_________________________________________________________________\n"
          ],
          "name": "stdout"
        }
      ]
    },
    {
      "cell_type": "code",
      "metadata": {
        "id": "QNQclsqb89f4",
        "outputId": "8bed8828-802f-4533-f05c-b611fb93a656",
        "colab": {
          "base_uri": "https://localhost:8080/",
          "height": 35
        }
      },
      "source": [
        "print(x_train.shape, y_train.shape)"
      ],
      "execution_count": 8,
      "outputs": [
        {
          "output_type": "stream",
          "text": [
            "(50000, 3072) (50000, 10)\n"
          ],
          "name": "stdout"
        }
      ]
    },
    {
      "cell_type": "code",
      "metadata": {
        "id": "hkI4eFsq4JMr",
        "outputId": "d72b6458-9fd5-43f4-90fb-0e14afba9194",
        "colab": {
          "base_uri": "https://localhost:8080/",
          "height": 946
        }
      },
      "source": [
        "model.compile(loss='categorical_crossentropy',\n",
        "              optimizer='sgd',\n",
        "              metrics=['accuracy'])\n",
        "\n",
        "history = model.fit(x_train, y_train, validation_data=(x_test, y_test), epochs=epochs, batch_size=batch_size)\n",
        "\n",
        "loss, acc = model.evaluate(x_test,\n",
        "                           y_test, \n",
        "                           batch_size=batch_size,\n",
        "                           verbose=False)\n",
        "print(\"\\nTest accuracy: %.1f%%\" % (100.0 * acc))"
      ],
      "execution_count": 17,
      "outputs": [
        {
          "output_type": "stream",
          "text": [
            "Epoch 1/25\n",
            "6250/6250 [==============================] - 20s 3ms/step - loss: 1.8565 - accuracy: 0.3261 - val_loss: 1.7954 - val_accuracy: 0.3427\n",
            "Epoch 2/25\n",
            "6250/6250 [==============================] - 18s 3ms/step - loss: 1.6744 - accuracy: 0.3994 - val_loss: 1.6088 - val_accuracy: 0.4172\n",
            "Epoch 3/25\n",
            "6250/6250 [==============================] - 18s 3ms/step - loss: 1.5911 - accuracy: 0.4295 - val_loss: 1.5666 - val_accuracy: 0.4471\n",
            "Epoch 4/25\n",
            "6250/6250 [==============================] - 18s 3ms/step - loss: 1.5402 - accuracy: 0.4515 - val_loss: 1.5194 - val_accuracy: 0.4558\n",
            "Epoch 5/25\n",
            "6250/6250 [==============================] - 19s 3ms/step - loss: 1.5007 - accuracy: 0.4624 - val_loss: 1.4947 - val_accuracy: 0.4633\n",
            "Epoch 6/25\n",
            "6250/6250 [==============================] - 19s 3ms/step - loss: 1.4630 - accuracy: 0.4746 - val_loss: 1.4831 - val_accuracy: 0.4637\n",
            "Epoch 7/25\n",
            "6250/6250 [==============================] - 19s 3ms/step - loss: 1.4360 - accuracy: 0.4883 - val_loss: 1.4498 - val_accuracy: 0.4839\n",
            "Epoch 8/25\n",
            "6250/6250 [==============================] - 18s 3ms/step - loss: 1.4114 - accuracy: 0.4966 - val_loss: 1.4869 - val_accuracy: 0.4756\n",
            "Epoch 9/25\n",
            "6250/6250 [==============================] - 18s 3ms/step - loss: 1.3878 - accuracy: 0.5073 - val_loss: 1.5070 - val_accuracy: 0.4642\n",
            "Epoch 10/25\n",
            "6250/6250 [==============================] - 18s 3ms/step - loss: 1.3640 - accuracy: 0.5146 - val_loss: 1.4986 - val_accuracy: 0.4663\n",
            "Epoch 11/25\n",
            "6250/6250 [==============================] - 18s 3ms/step - loss: 1.3463 - accuracy: 0.5218 - val_loss: 1.4096 - val_accuracy: 0.4980\n",
            "Epoch 12/25\n",
            "6250/6250 [==============================] - 18s 3ms/step - loss: 1.3258 - accuracy: 0.5283 - val_loss: 1.4420 - val_accuracy: 0.4877\n",
            "Epoch 13/25\n",
            "6250/6250 [==============================] - 18s 3ms/step - loss: 1.3102 - accuracy: 0.5339 - val_loss: 1.4095 - val_accuracy: 0.5019\n",
            "Epoch 14/25\n",
            "6250/6250 [==============================] - 18s 3ms/step - loss: 1.2910 - accuracy: 0.5380 - val_loss: 1.4130 - val_accuracy: 0.5015\n",
            "Epoch 15/25\n",
            "6250/6250 [==============================] - 21s 3ms/step - loss: 1.2761 - accuracy: 0.5446 - val_loss: 1.4345 - val_accuracy: 0.4948\n",
            "Epoch 16/25\n",
            "6250/6250 [==============================] - 18s 3ms/step - loss: 1.2598 - accuracy: 0.5514 - val_loss: 1.4187 - val_accuracy: 0.4987\n",
            "Epoch 17/25\n",
            "6250/6250 [==============================] - 21s 3ms/step - loss: 1.2474 - accuracy: 0.5560 - val_loss: 1.4289 - val_accuracy: 0.5007\n",
            "Epoch 18/25\n",
            "6250/6250 [==============================] - 21s 3ms/step - loss: 1.2322 - accuracy: 0.5596 - val_loss: 1.4089 - val_accuracy: 0.5101\n",
            "Epoch 19/25\n",
            "6250/6250 [==============================] - 19s 3ms/step - loss: 1.2192 - accuracy: 0.5646 - val_loss: 1.3950 - val_accuracy: 0.5070\n",
            "Epoch 20/25\n",
            "6250/6250 [==============================] - 18s 3ms/step - loss: 1.2040 - accuracy: 0.5702 - val_loss: 1.3989 - val_accuracy: 0.5051\n",
            "Epoch 21/25\n",
            "6250/6250 [==============================] - 19s 3ms/step - loss: 1.1898 - accuracy: 0.5758 - val_loss: 1.4009 - val_accuracy: 0.5067\n",
            "Epoch 22/25\n",
            "6250/6250 [==============================] - 19s 3ms/step - loss: 1.1821 - accuracy: 0.5792 - val_loss: 1.3999 - val_accuracy: 0.5163\n",
            "Epoch 23/25\n",
            "6250/6250 [==============================] - 19s 3ms/step - loss: 1.1655 - accuracy: 0.5849 - val_loss: 1.4522 - val_accuracy: 0.4980\n",
            "Epoch 24/25\n",
            "6250/6250 [==============================] - 19s 3ms/step - loss: 1.1573 - accuracy: 0.5877 - val_loss: 1.4554 - val_accuracy: 0.5003\n",
            "Epoch 25/25\n",
            "6250/6250 [==============================] - 19s 3ms/step - loss: 1.1454 - accuracy: 0.5905 - val_loss: 1.3832 - val_accuracy: 0.5176\n",
            "\n",
            "Test accuracy: 51.8%\n"
          ],
          "name": "stdout"
        }
      ]
    }
  ]
}